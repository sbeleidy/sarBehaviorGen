{
 "cells": [
  {
   "cell_type": "code",
   "execution_count": 1,
   "metadata": {},
   "outputs": [],
   "source": [
    "from pyshop.pyshop import PyShop\n",
    "from pyshop.pyshop import State"
   ]
  },
  {
   "cell_type": "code",
   "execution_count": 23,
   "metadata": {},
   "outputs": [],
   "source": [
    "ps = PyShop(\"init\")\n",
    "ps.declare_methods(\"models/general.hddl\")\n",
    "ps.declare_operators(\"models/general.hddl\")\n"
   ]
  },
  {
   "cell_type": "code",
   "execution_count": 24,
   "metadata": {},
   "outputs": [
    {
     "name": "stdout",
     "output_type": "stream",
     "text": [
      "OPERATORS: SayText, PointAt, LookInDirection, SetEyes, TiltHead, Pause\n"
     ]
    }
   ],
   "source": [
    "ps.print_operators()"
   ]
  },
  {
   "cell_type": "code",
   "execution_count": 25,
   "metadata": {},
   "outputs": [
    {
     "name": "stdout",
     "output_type": "stream",
     "text": [
      "TASK:               METHODS:\n",
      "confirm             great-job, looks-good, good-job, so-close, almost-done-cheerful, almost-done, done, simple-confirm\n",
      "repeat              repeat\n",
      "instruct            dont-think-so\n",
      "persist             doing-ok, doing-great, doing-bad, doing-bad2, doing-ok, doing-ok-defualt\n",
      "inquire             give-up-question, how-going, offer-help-with-that-question, ask-what-part-question, offer-help-question\n",
      "social              simple-yes, thank-you, you-are-welcome, bye-bye, break, empty-positive-phrase, empty-phrase, delay-social\n",
      "sorry               sorry\n",
      "never-mind          never-mind, never-mind-sincere\n",
      "delay               good-question, slow, thinking, thinking, empty-phrase-ok\n",
      "take-turn           take-turn1\n",
      "claim-look          claim-look-1, claim-look-high-rapport, claim-look-2, claim-look-3, claim-look-0\n",
      "claim-eyes          claim-eyes-1, claim-eyes-2, claim-eyes-0, claim-eyes-default\n",
      "release-turn        release-turn1, release-turn2, release-turn0\n",
      "ShakeNo             ShakeNo1\n",
      "wave                wave1\n",
      "looking-around      looking-around1\n",
      "lookAtPieces        lookAtPieces1\n",
      "lookAt              lookAtTarget, lookAtTargetThenUser\n",
      "lookAtPicture       lookAtPicture1\n",
      "Nod                 nod1\n",
      "defaultCenter       defaultCenter1\n",
      "defaultDown         defaultDown1\n",
      "pointAtPieces       pointAtPieces1\n",
      "pointAtPicture      pointAtPicture1\n",
      "sayTextandPause     sayTextandPause1\n",
      "PointandPause       PointandPause1\n",
      "LookandPause        LookandPause1\n",
      "tiltHeadandPause    tiltHeadandPause1\n",
      "setEyesandPause     setEyesandPause1\n"
     ]
    }
   ],
   "source": [
    "ps.print_methods()"
   ]
  },
  {
   "cell_type": "code",
   "execution_count": 26,
   "metadata": {},
   "outputs": [],
   "source": [
    "# Initial State Definition\n",
    "intial_state = State(\"example\")\n",
    "\n",
    "intial_state.add([\"affect\", \"negative\"])\n",
    "# intial_state.add([\"something\"])\n",
    "# intial_state.add([\"something\"])\n",
    "# intial_state.add([\"something\"])"
   ]
  },
  {
   "cell_type": "code",
   "execution_count": 27,
   "metadata": {},
   "outputs": [],
   "source": [
    "initial_task = [\n",
    "    \"confirm\"\n",
    "]"
   ]
  },
  {
   "cell_type": "code",
   "execution_count": 28,
   "metadata": {},
   "outputs": [
    {
     "name": "stdout",
     "output_type": "stream",
     "text": [
      "depth 0 tasks ['confirm']\n",
      "depth 0 returns failure\n"
     ]
    },
    {
     "data": {
      "text/plain": [
       "False"
      ]
     },
     "execution_count": 28,
     "metadata": {},
     "output_type": "execute_result"
    }
   ],
   "source": [
    "# Plan what to do based on the initial state and tasks\n",
    "ps.pyshop(intial_state, initial_task, 3)"
   ]
  },
  {
   "cell_type": "code",
   "execution_count": null,
   "metadata": {},
   "outputs": [],
   "source": []
  },
  {
   "cell_type": "code",
   "execution_count": null,
   "metadata": {},
   "outputs": [],
   "source": []
  }
 ],
 "metadata": {
  "kernelspec": {
   "display_name": "Python 3",
   "language": "python",
   "name": "python3"
  },
  "language_info": {
   "codemirror_mode": {
    "name": "ipython",
    "version": 3
   },
   "file_extension": ".py",
   "mimetype": "text/x-python",
   "name": "python",
   "nbconvert_exporter": "python",
   "pygments_lexer": "ipython3",
   "version": "3.10.5"
  }
 },
 "nbformat": 4,
 "nbformat_minor": 2
}
